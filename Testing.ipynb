{
 "cells": [
  {
   "cell_type": "code",
   "execution_count": 57,
   "id": "859dfa71",
   "metadata": {},
   "outputs": [],
   "source": [
    "import pickle\n",
    "import re\n",
    "import numpy as np\n",
    "from tensorflow.keras.models import load_model\n",
    "\n",
    "# Load the tokenizer\n",
    "with open('tokenizer_new.pickle', 'rb') as tokenizer_file:\n",
    "    tokenizer = pickle.load(tokenizer_file)\n",
    "\n",
    "# Load the label encoder\n",
    "with open('label_encoder_new.pkl', 'rb') as label_encoder_file:\n",
    "    label_encoder = pickle.load(label_encoder_file)\n",
    "\n",
    "# Load the trained model\n",
    "model = load_model('text_classification_model_new.h5')\n",
    "\n",
    "# Function to preprocess the input text\n",
    "def preprocess_text(text):\n",
    "    text = text.lower()\n",
    "    text = re.sub('[^a-zA-Z0-9]', ' ', text)\n",
    "    text = re.sub('\\s+', ' ', text)\n",
    "    text = remove_stopwords(text)\n",
    "    text = stem_words(text)\n",
    "    text = lemmatize_words(text)\n",
    "    return text\n",
    "\n",
    "\n",
    "def remove_stopwords(text):\n",
    "    stop_words = set(stopwords.words('english'))\n",
    "    tokens = text.split()\n",
    "    filtered_tokens = [token for token in tokens if token not in stop_words]\n",
    "    filtered_text = ' '.join(filtered_tokens)\n",
    "    return filtered_text\n",
    "\n",
    "# Function to make predictions on new data\n",
    "def predict_class(text):\n",
    "    preprocessed_text = preprocess_text(text)\n",
    "    sequence = tokenizer.texts_to_sequences([preprocessed_text])\n",
    "    padded_sequence = pad_sequences(sequence, maxlen=max_seq_length)\n",
    "    predicted_probs = model.predict(padded_sequence)[0]\n",
    "    predicted_class_index = np.argmax(predicted_probs)\n",
    "    predicted_class = label_encoder.classes_[predicted_class_index]\n",
    "    confidence = predicted_probs[predicted_class_index]\n",
    "    return predicted_class, confidence\n"
   ]
  },
  {
   "cell_type": "code",
   "execution_count": 65,
   "id": "c1963f12",
   "metadata": {},
   "outputs": [
    {
     "name": "stdout",
     "output_type": "stream",
     "text": [
      "1/1 [==============================] - 0s 30ms/step\n",
      "Predicted class: Positive\n",
      "Confidence: 98.0 %\n"
     ]
    }
   ],
   "source": [
    "# Example usage\n",
    "text = \"cool\"\n",
    "predicted_class, confidence = predict_class(text)\n",
    "print(f\"Predicted class: {predicted_class}\")\n",
    "print(f\"Confidence: {np.round(confidence*100)} %\")"
   ]
  },
  {
   "cell_type": "code",
   "execution_count": null,
   "id": "3bfc8506",
   "metadata": {},
   "outputs": [],
   "source": []
  },
  {
   "cell_type": "code",
   "execution_count": null,
   "id": "f7e154d5",
   "metadata": {},
   "outputs": [],
   "source": []
  }
 ],
 "metadata": {
  "kernelspec": {
   "display_name": "Python 3 (ipykernel)",
   "language": "python",
   "name": "python3"
  },
  "language_info": {
   "codemirror_mode": {
    "name": "ipython",
    "version": 3
   },
   "file_extension": ".py",
   "mimetype": "text/x-python",
   "name": "python",
   "nbconvert_exporter": "python",
   "pygments_lexer": "ipython3",
   "version": "3.10.9"
  }
 },
 "nbformat": 4,
 "nbformat_minor": 5
}
